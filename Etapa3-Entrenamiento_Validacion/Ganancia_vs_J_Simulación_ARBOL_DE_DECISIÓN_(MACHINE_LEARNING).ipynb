{
  "nbformat": 4,
  "nbformat_minor": 0,
  "metadata": {
    "colab": {
      "provenance": []
    },
    "kernelspec": {
      "name": "python3",
      "display_name": "Python 3"
    },
    "language_info": {
      "name": "python"
    }
  },
  "cells": [
    {
      "cell_type": "markdown",
      "metadata": {
        "id": "vGLgDLQeb2xt"
      },
      "source": [
        "> **ALGORITMO DE MACHINE LEARNING: ARBOL DE DECISIÓN**\n",
        "---\n",
        "\n",
        "Aplicación del algoritmo de Árbol de Decisión para obtener el valor de la ganancia de retroalimentación de la velocidad angular del motor en base a la inercia total sumado de la inercia del motor y la carga."
      ]
    },
    {
      "cell_type": "markdown",
      "metadata": {
        "id": "e0jYtmVZcAfb"
      },
      "source": [
        "> Importación y Análisis de Data\n",
        "---"
      ]
    },
    {
      "cell_type": "code",
      "metadata": {
        "id": "dFMYE-WTpCUm"
      },
      "source": [
        "#IMPORTAR LIBRERÍA\n",
        "import pandas as pd                                     # LIBRERÍA PARA DATAFRAMES\n",
        "import numpy as np                                      # LIBRERÍA PARA MATRICES\n",
        "import os                                               # LIBRERÍA PARA OPERACIONES CON EL SISTEMA OPERATIVO\n",
        "import matplotlib.pyplot as plt                         # LIBRERÍA PARA GRÁFICAS 2D\n",
        "from sklearn import model_selection                     # LIBRERÍA PARA SEPARAR DATA EN ENTRENAMIENTO Y VALIDACIÓN\n",
        "from sklearn.tree import DecisionTreeRegressor          # LIBRERÍA PARA IMPLEMENTAR REGRESIÓN POR ARBOL DE DECISIÓN\n",
        "from sklearn.tree import export_graphviz                # LIBRERÍA PARA EXPORTAR ÁRBOL DE DECISIÓN (ARCHIVO DOT)\n",
        "from graphviz import Source                             # LIBRERÍA PARA MOSTRAR ÁRBOL DE DECISIÓN (ARCHIVO DOT)\n",
        "from sklearn.model_selection import KFold               # LIBRERÍA PARA DIVIDIR LA DATA EN N-FOLD O SUBCONJUNTOS DE TESTING DIFERENTES\n",
        "from sklearn.model_selection import cross_val_score     # LIBRERÍA PARA OBTENER LA CORRELACIÓN POR VALIDACIÓN CRUZADA\n",
        "from sklearn.metrics import mean_squared_error          # LIBRERÍA PARA HALLAR EL ERROR CUADRÁTICO MEDIO\n",
        "from sklearn.externals import joblib                    # LIBRERÍA PARA EXPORTAR MODELO DE MACHINE LEARNING\n",
        "\n",
        "from google.colab import drive          # LIBRERÍA PARA IMPORTAR DESDE GOOGLE DRIVE"
      ],
      "execution_count": null,
      "outputs": []
    },
    {
      "cell_type": "code",
      "metadata": {
        "id": "XxYjbC6KpFdl"
      },
      "source": [
        "%matplotlib inline"
      ],
      "execution_count": null,
      "outputs": []
    },
    {
      "cell_type": "code",
      "metadata": {
        "colab": {
          "base_uri": "https://localhost:8080/"
        },
        "id": "Wndft6j3pG-t",
        "outputId": "957a42d4-767b-40cf-ff5f-4b3ee493559d"
      },
      "source": [
        "drive.mount('/content/drive')"
      ],
      "execution_count": null,
      "outputs": [
        {
          "output_type": "stream",
          "name": "stdout",
          "text": [
            "Mounted at /content/drive\n"
          ]
        }
      ]
    },
    {
      "cell_type": "code",
      "metadata": {
        "colab": {
          "base_uri": "https://localhost:8080/",
          "height": 419
        },
        "id": "fzS3RmRYpOyU",
        "outputId": "f1f636f6-f0eb-449e-f050-d87b0641eb57"
      },
      "source": [
        "#LEER ARCHIVO EXCEL (.xlsx)\n",
        "mainpath = \"drive/My Drive/DATASET\"\n",
        "filenameDatos = \"PP_CONTROL_MOTOR_DC/Dataset_Motor.xlsx\"\n",
        "fullpathDatos = os.path.join(mainpath,filenameDatos)\n",
        "\n",
        "data = pd.read_excel(fullpathDatos)\n",
        "\n",
        "#Mostrar Datos\n",
        "data"
      ],
      "execution_count": null,
      "outputs": [
        {
          "output_type": "execute_result",
          "data": {
            "text/html": [
              "<div>\n",
              "<style scoped>\n",
              "    .dataframe tbody tr th:only-of-type {\n",
              "        vertical-align: middle;\n",
              "    }\n",
              "\n",
              "    .dataframe tbody tr th {\n",
              "        vertical-align: top;\n",
              "    }\n",
              "\n",
              "    .dataframe thead th {\n",
              "        text-align: right;\n",
              "    }\n",
              "</style>\n",
              "<table border=\"1\" class=\"dataframe\">\n",
              "  <thead>\n",
              "    <tr style=\"text-align: right;\">\n",
              "      <th></th>\n",
              "      <th>Inercia_Total</th>\n",
              "      <th>Ganancia_Corriente</th>\n",
              "      <th>Ganancia_Velocidad</th>\n",
              "    </tr>\n",
              "  </thead>\n",
              "  <tbody>\n",
              "    <tr>\n",
              "      <th>0</th>\n",
              "      <td>0.023718</td>\n",
              "      <td>0.107391</td>\n",
              "      <td>17.512910</td>\n",
              "    </tr>\n",
              "    <tr>\n",
              "      <th>1</th>\n",
              "      <td>0.023765</td>\n",
              "      <td>0.107391</td>\n",
              "      <td>17.549938</td>\n",
              "    </tr>\n",
              "    <tr>\n",
              "      <th>2</th>\n",
              "      <td>0.023812</td>\n",
              "      <td>0.107391</td>\n",
              "      <td>17.586966</td>\n",
              "    </tr>\n",
              "    <tr>\n",
              "      <th>3</th>\n",
              "      <td>0.023859</td>\n",
              "      <td>0.107391</td>\n",
              "      <td>17.623995</td>\n",
              "    </tr>\n",
              "    <tr>\n",
              "      <th>4</th>\n",
              "      <td>0.023907</td>\n",
              "      <td>0.107391</td>\n",
              "      <td>17.661023</td>\n",
              "    </tr>\n",
              "    <tr>\n",
              "      <th>...</th>\n",
              "      <td>...</td>\n",
              "      <td>...</td>\n",
              "      <td>...</td>\n",
              "    </tr>\n",
              "    <tr>\n",
              "      <th>1995</th>\n",
              "      <td>0.117811</td>\n",
              "      <td>2.026651</td>\n",
              "      <td>27828.389339</td>\n",
              "    </tr>\n",
              "    <tr>\n",
              "      <th>1996</th>\n",
              "      <td>0.117859</td>\n",
              "      <td>1.415655</td>\n",
              "      <td>13640.427254</td>\n",
              "    </tr>\n",
              "    <tr>\n",
              "      <th>1997</th>\n",
              "      <td>0.117906</td>\n",
              "      <td>2.026651</td>\n",
              "      <td>27850.673436</td>\n",
              "    </tr>\n",
              "    <tr>\n",
              "      <th>1998</th>\n",
              "      <td>0.117953</td>\n",
              "      <td>2.026651</td>\n",
              "      <td>27861.815484</td>\n",
              "    </tr>\n",
              "    <tr>\n",
              "      <th>1999</th>\n",
              "      <td>0.118000</td>\n",
              "      <td>2.026651</td>\n",
              "      <td>27872.957532</td>\n",
              "    </tr>\n",
              "  </tbody>\n",
              "</table>\n",
              "<p>2000 rows × 3 columns</p>\n",
              "</div>"
            ],
            "text/plain": [
              "      Inercia_Total  Ganancia_Corriente  Ganancia_Velocidad\n",
              "0          0.023718            0.107391           17.512910\n",
              "1          0.023765            0.107391           17.549938\n",
              "2          0.023812            0.107391           17.586966\n",
              "3          0.023859            0.107391           17.623995\n",
              "4          0.023907            0.107391           17.661023\n",
              "...             ...                 ...                 ...\n",
              "1995       0.117811            2.026651        27828.389339\n",
              "1996       0.117859            1.415655        13640.427254\n",
              "1997       0.117906            2.026651        27850.673436\n",
              "1998       0.117953            2.026651        27861.815484\n",
              "1999       0.118000            2.026651        27872.957532\n",
              "\n",
              "[2000 rows x 3 columns]"
            ]
          },
          "metadata": {},
          "execution_count": 4
        }
      ]
    },
    {
      "cell_type": "code",
      "metadata": {
        "colab": {
          "base_uri": "https://localhost:8080/",
          "height": 419
        },
        "id": "6vs_8VTHp7h5",
        "outputId": "678d4dbe-4a44-4961-a581-713493266e92"
      },
      "source": [
        "data = data[data[\"Inercia_Total\"] <= 0.08]\n",
        "data"
      ],
      "execution_count": null,
      "outputs": [
        {
          "output_type": "execute_result",
          "data": {
            "text/html": [
              "<div>\n",
              "<style scoped>\n",
              "    .dataframe tbody tr th:only-of-type {\n",
              "        vertical-align: middle;\n",
              "    }\n",
              "\n",
              "    .dataframe tbody tr th {\n",
              "        vertical-align: top;\n",
              "    }\n",
              "\n",
              "    .dataframe thead th {\n",
              "        text-align: right;\n",
              "    }\n",
              "</style>\n",
              "<table border=\"1\" class=\"dataframe\">\n",
              "  <thead>\n",
              "    <tr style=\"text-align: right;\">\n",
              "      <th></th>\n",
              "      <th>Inercia_Total</th>\n",
              "      <th>Ganancia_Corriente</th>\n",
              "      <th>Ganancia_Velocidad</th>\n",
              "    </tr>\n",
              "  </thead>\n",
              "  <tbody>\n",
              "    <tr>\n",
              "      <th>0</th>\n",
              "      <td>0.023718</td>\n",
              "      <td>0.107391</td>\n",
              "      <td>17.512910</td>\n",
              "    </tr>\n",
              "    <tr>\n",
              "      <th>1</th>\n",
              "      <td>0.023765</td>\n",
              "      <td>0.107391</td>\n",
              "      <td>17.549938</td>\n",
              "    </tr>\n",
              "    <tr>\n",
              "      <th>2</th>\n",
              "      <td>0.023812</td>\n",
              "      <td>0.107391</td>\n",
              "      <td>17.586966</td>\n",
              "    </tr>\n",
              "    <tr>\n",
              "      <th>3</th>\n",
              "      <td>0.023859</td>\n",
              "      <td>0.107391</td>\n",
              "      <td>17.623995</td>\n",
              "    </tr>\n",
              "    <tr>\n",
              "      <th>4</th>\n",
              "      <td>0.023907</td>\n",
              "      <td>0.107391</td>\n",
              "      <td>17.661023</td>\n",
              "    </tr>\n",
              "    <tr>\n",
              "      <th>...</th>\n",
              "      <td>...</td>\n",
              "      <td>...</td>\n",
              "      <td>...</td>\n",
              "    </tr>\n",
              "    <tr>\n",
              "      <th>1189</th>\n",
              "      <td>0.079797</td>\n",
              "      <td>0.229605</td>\n",
              "      <td>259.688392</td>\n",
              "    </tr>\n",
              "    <tr>\n",
              "      <th>1190</th>\n",
              "      <td>0.079844</td>\n",
              "      <td>0.229605</td>\n",
              "      <td>259.842612</td>\n",
              "    </tr>\n",
              "    <tr>\n",
              "      <th>1191</th>\n",
              "      <td>0.079891</td>\n",
              "      <td>0.229605</td>\n",
              "      <td>259.996832</td>\n",
              "    </tr>\n",
              "    <tr>\n",
              "      <th>1192</th>\n",
              "      <td>0.079938</td>\n",
              "      <td>0.229605</td>\n",
              "      <td>260.151053</td>\n",
              "    </tr>\n",
              "    <tr>\n",
              "      <th>1193</th>\n",
              "      <td>0.079985</td>\n",
              "      <td>0.229605</td>\n",
              "      <td>260.305273</td>\n",
              "    </tr>\n",
              "  </tbody>\n",
              "</table>\n",
              "<p>1194 rows × 3 columns</p>\n",
              "</div>"
            ],
            "text/plain": [
              "      Inercia_Total  Ganancia_Corriente  Ganancia_Velocidad\n",
              "0          0.023718            0.107391           17.512910\n",
              "1          0.023765            0.107391           17.549938\n",
              "2          0.023812            0.107391           17.586966\n",
              "3          0.023859            0.107391           17.623995\n",
              "4          0.023907            0.107391           17.661023\n",
              "...             ...                 ...                 ...\n",
              "1189       0.079797            0.229605          259.688392\n",
              "1190       0.079844            0.229605          259.842612\n",
              "1191       0.079891            0.229605          259.996832\n",
              "1192       0.079938            0.229605          260.151053\n",
              "1193       0.079985            0.229605          260.305273\n",
              "\n",
              "[1194 rows x 3 columns]"
            ]
          },
          "metadata": {},
          "execution_count": 5
        }
      ]
    },
    {
      "cell_type": "code",
      "metadata": {
        "colab": {
          "base_uri": "https://localhost:8080/",
          "height": 350
        },
        "id": "gz7DFGWupTGV",
        "outputId": "e896cf00-4fff-41d6-ed5c-eb29e36acd45"
      },
      "source": [
        "#GRÁFICA DE LA GANANCIA DE LA CORRIENTE VS INERCIA TOTAL\n",
        "plt.figure(figsize = (8,5))\n",
        "plt.scatter(data.Inercia_Total, data.Ganancia_Corriente, c = \"darkgreen\", s = 5)\n",
        "plt.ylim([0,0.25])\n",
        "plt.title(\"Curva de Ganancia de Corriente vs Inercia del Motor\")\n",
        "plt.xlabel(\"Momento de Inercia del Motor\")\n",
        "plt.ylabel(\"Ganancia de Corriente de Armadura\")\n",
        "plt.grid()\n",
        "plt.show()"
      ],
      "execution_count": null,
      "outputs": [
        {
          "output_type": "display_data",
          "data": {
            "image/png": "[encoded data removed]",
            "text/plain": [
              "<Figure size 576x360 with 1 Axes>"
            ]
          },
          "metadata": {
            "needs_background": "light"
          }
        }
      ]
    },
    {
      "cell_type": "code",
      "metadata": {
        "colab": {
          "base_uri": "https://localhost:8080/",
          "height": 350
        },
        "id": "Q8-4YtrfpVaU",
        "outputId": "7546b051-2142-4754-c5a1-852933cd5b88"
      },
      "source": [
        "#GRÁFICA DE LA GANANCIA DE LA VELOCIDAD VS INERCIA TOTAL\n",
        "plt.figure(figsize = (8,5))\n",
        "plt.scatter(data.Inercia_Total, data.Ganancia_Velocidad, c = \"darkblue\", s = 5)\n",
        "plt.ylim([0,270])\n",
        "plt.title(\"Curva de Ganancia de Velocidad vs Inercia del Motor\")\n",
        "plt.xlabel(\"Momento de Inercia del Motor\")\n",
        "plt.ylabel(\"Ganancia de Velocidad\")\n",
        "plt.grid()\n",
        "plt.show()"
      ],
      "execution_count": null,
      "outputs": [
        {
          "output_type": "display_data",
          "data": {
            "image/png": "[encoded data removed]",
            "text/plain": [
              "<Figure size 576x360 with 1 Axes>"
            ]
          },
          "metadata": {
            "needs_background": "light"
          }
        }
      ]
    },
    {
      "cell_type": "code",
      "metadata": {
        "colab": {
          "base_uri": "https://localhost:8080/",
          "height": 350
        },
        "id": "xXWUDyioJFGL",
        "outputId": "e31c18f1-481e-426f-aea6-4f33167566d5"
      },
      "source": [
        "#GRÁFICA DE LA GANANCIA VS INERCIA TOTAL\n",
        "plt.figure(figsize = (8,5))\n",
        "plt.scatter(data.Inercia_Total, data.Ganancia_Corriente, c = \"darkgreen\", label = \"Ganancia de Corriente\", s = 5)\n",
        "plt.scatter(data.Inercia_Total, data.Ganancia_Velocidad, c = \"darkblue\", label = \"Ganancia de Velocidad\", s = 5)\n",
        "plt.ylim([0,270])\n",
        "plt.title(\"Curvas de Ganancia vs Inercia del Motor\")\n",
        "plt.xlabel(\"Momento de Inercia del Motor\")\n",
        "plt.ylabel(\"Ganancia\")\n",
        "plt.grid()\n",
        "plt.legend()\n",
        "plt.show()"
      ],
      "execution_count": null,
      "outputs": [
        {
          "output_type": "display_data",
          "data": {
            "image/png": "[encoded data removed]",
            "text/plain": [
              "<Figure size 576x360 with 1 Axes>"
            ]
          },
          "metadata": {
            "needs_background": "light"
          }
        }
      ]
    },
    {
      "cell_type": "markdown",
      "metadata": {
        "id": "bZ2SSPOqeCFa"
      },
      "source": [
        "> # 1. GANANCIA VELOCIDAD\n",
        "\n",
        "\n"
      ]
    },
    {
      "cell_type": "markdown",
      "metadata": {
        "id": "mW4UT4qEcDPU"
      },
      "source": [
        "> Separar Datos en Conjuntos de Entrenamiento y Validación\n",
        "---"
      ]
    },
    {
      "cell_type": "code",
      "metadata": {
        "id": "6YMUCsmqpYmF"
      },
      "source": [
        "#OBTENER LA VARIABLE CARACTERÍSTICA Y LA VARIABLE OBJETIVO DEL DATASET\n",
        "caracteristica = [\"Inercia_Total\"]\n",
        "objetivo = [\"Ganancia_Velocidad\"]\n",
        "\n",
        "X = data[caracteristica]\n",
        "Y = data[objetivo]"
      ],
      "execution_count": null,
      "outputs": []
    },
    {
      "cell_type": "code",
      "metadata": {
        "id": "2k3nY_yWpa3E"
      },
      "source": [
        "#OBTENEMOS DATOS DE ENTRENAMIENTO Y VALIDACIÓN (75% DE DATOS PARA EL CONJUNTO DE ENTRENAMIENTO)\n",
        "X_train, X_test, Y_train, Y_test = model_selection.train_test_split(X,Y, test_size = 0.25, random_state = 0)"
      ],
      "execution_count": null,
      "outputs": []
    },
    {
      "cell_type": "markdown",
      "metadata": {
        "id": "HogaanPOcFVM"
      },
      "source": [
        "> Entrenamiento del Árbol de Regresión y Validación de sus Parámetros\n",
        "---"
      ]
    },
    {
      "cell_type": "code",
      "metadata": {
        "id": "PU_mapdYbvP3",
        "colab": {
          "base_uri": "https://localhost:8080/",
          "height": 538
        },
        "outputId": "cac31e3b-087d-4ca4-f5a4-e553f272192a"
      },
      "source": [
        "#VALIDACIÓN CRUZADA PARA VARIAS PROFUNDIDADES DE ÁRBOL\n",
        "\n",
        "print(\"Las variable predictora es: \", caracteristica[0])\n",
        "\n",
        "# PRUEBA DE LA PROFUNDIDAD DEL ÁRBOL\n",
        "profundidadMinima = 1\n",
        "profundidadMaxima = 10\n",
        "\n",
        "errorCuadraticoMedioList = []\n",
        "profundidad = np.array(range(profundidadMinima,profundidadMaxima+1))\n",
        "\n",
        "for i in range(profundidadMinima,profundidadMaxima+1):\n",
        "\n",
        "  tree = DecisionTreeRegressor(criterion = \"mse\", max_depth = i, min_samples_split = 10, min_samples_leaf = 10, random_state = 0) \n",
        "  tree.fit(X_train, Y_train)\n",
        "\n",
        "  #CREAR LOS DISTINTOS SUBCONJUNTOS DE ENTRENAMIENTO Y TESTING\n",
        "  #10 SPLITS O SUBCONJUNTOS DE TESTING, ES DECIR DE 200 EN 200, PUES TENEMOS 2000 DATOS\n",
        "  cv = KFold(n_splits = 10, shuffle = True, random_state = 0)\n",
        "  scores = cross_val_score(tree, X, Y, scoring = \"neg_mean_squared_error\", cv = cv, n_jobs = 1)\n",
        "  errorCuadraticoMedioList.append(np.mean(scores)*(-1))\n",
        "  print(\"Para una profundidad de \", i, \" el mse es: \", np.mean(scores)*(-1))\n",
        "\n",
        "errorCuadraticoMedio = np.array(errorCuadraticoMedioList)\n",
        "\n",
        "#GRÁFICA DE LA GANANCIA DE LA VELOCIDAD VS INERCIA TOTAL\n",
        "plt.figure(figsize = (8,5))\n",
        "plt.plot(profundidad, errorCuadraticoMedio, c = \"darkred\")\n",
        "plt.plot(3*np.ones_like(errorCuadraticoMedio),errorCuadraticoMedio, c = \"yellow\")\n",
        "plt.title(\"Error Cuadrático Medio a distintas profundidades del Árbol\")\n",
        "plt.xlabel(\"Profundidad\")\n",
        "plt.ylabel(\"Error Cuadrático Medio\")\n",
        "plt.xticks(profundidad)\n",
        "plt.grid()\n",
        "plt.show()"
      ],
      "execution_count": null,
      "outputs": [
        {
          "output_type": "stream",
          "name": "stdout",
          "text": [
            "Las variable predictora es:  Inercia_Total\n",
            "Para una profundidad de  1  el mse es:  1361.6863170313823\n",
            "Para una profundidad de  2  el mse es:  110.9896815715829\n",
            "Para una profundidad de  3  el mse es:  50.92392403493359\n",
            "Para una profundidad de  4  el mse es:  35.27572181166837\n",
            "Para una profundidad de  5  el mse es:  31.0262456909989\n",
            "Para una profundidad de  6  el mse es:  29.784107626797983\n",
            "Para una profundidad de  7  el mse es:  29.396873667815946\n",
            "Para una profundidad de  8  el mse es:  29.396690855346964\n",
            "Para una profundidad de  9  el mse es:  29.396690855346964\n",
            "Para una profundidad de  10  el mse es:  29.396690855346964\n"
          ]
        },
        {
          "output_type": "display_data",
          "data": {
            "image/png": "[encoded data removed]",
            "text/plain": [
              "<Figure size 576x360 with 1 Axes>"
            ]
          },
          "metadata": {
            "needs_background": "light"
          }
        }
      ]
    },
    {
      "cell_type": "code",
      "metadata": {
        "colab": {
          "base_uri": "https://localhost:8080/",
          "height": 622
        },
        "id": "Wj1XK5X_Q2GZ",
        "outputId": "8adb31cc-b654-4b58-b0fa-36089e2e04cd"
      },
      "source": [
        "#VALIDACIÓN CRUZADA PARA VARIAS CANTIDADES MÍNIMAS DE MUESTRAS PARA CORTAR UN NODO EN UNA DECISIÓN\n",
        "\n",
        "print(\"Las variable predictora es: \", caracteristica[0])\n",
        "\n",
        "profundidadAceptada = 3\n",
        "\n",
        "# PRUEBA DEL NÚMERO DE DATOS NECESARIOS PARA PODER DIVIDIR UN NODO EN UNA DECISIÓN\n",
        "samplesSplitMinimo = 10\n",
        "samplesSplitMaximo = 300+1\n",
        "samplesSplitPaso = 20\n",
        "\n",
        "errorCuadraticoMedioList = []\n",
        "samplesSplit = np.array(range(samplesSplitMinimo,samplesSplitMaximo,samplesSplitPaso))\n",
        "\n",
        "for sampleSplit in range(samplesSplitMinimo,samplesSplitMaximo,samplesSplitPaso):\n",
        "\n",
        "  tree = DecisionTreeRegressor(criterion = \"mse\", max_depth = profundidadAceptada, min_samples_split = sampleSplit, min_samples_leaf = 30, random_state = 0)\n",
        "  tree.fit(X_train, Y_train)\n",
        "\n",
        "  #CREAR LOS DISTINTOS SUBCONJUNTOS DE ENTRENAMIENTO Y TESTING\n",
        "  #10 SPLITS O SUBCONJUNTOS DE TESTING, ES DECIR DE 200 EN 200, PUES TENEMOS 2000 DATOS\n",
        "  cv = KFold(n_splits = 10, shuffle = True, random_state = 0)\n",
        "  scores = cross_val_score(tree, X, Y, scoring = \"neg_mean_squared_error\", cv = cv, n_jobs = 1)\n",
        "  errorCuadraticoMedioList.append(np.mean(scores)*(-1))\n",
        "  print(\"Para un corte con un mínimo de \", sampleSplit, \" muestras, el mse es: \", np.mean(scores)*(-1))\n",
        "\n",
        "errorCuadraticoMedio = np.array(errorCuadraticoMedioList)\n",
        "\n",
        "#GRÁFICA DE LA GANANCIA DE LA VELOCIDAD VS INERCIA TOTAL\n",
        "plt.figure(figsize = (8,5))\n",
        "plt.plot(samplesSplit, errorCuadraticoMedio, c = \"darkred\")\n",
        "plt.plot(40*np.ones_like(errorCuadraticoMedio),errorCuadraticoMedio, c = \"yellow\")\n",
        "plt.title(\"Error Cuadrático Medio a distintos mínimas muestras de corte\")\n",
        "plt.xlabel(\"Mínima cantidad de datos para dividir un nodo\")\n",
        "plt.ylabel(\"Error Cuadrático Medio\")\n",
        "plt.xticks(samplesSplit)\n",
        "plt.grid()\n",
        "plt.show()"
      ],
      "execution_count": null,
      "outputs": [
        {
          "output_type": "stream",
          "name": "stdout",
          "text": [
            "Las variable predictora es:  Inercia_Total\n",
            "Para un corte con un mínimo de  10  muestras, el mse es:  51.36008163988011\n",
            "Para un corte con un mínimo de  30  muestras, el mse es:  51.36008163988011\n",
            "Para un corte con un mínimo de  50  muestras, el mse es:  51.36008163988011\n",
            "Para un corte con un mínimo de  70  muestras, el mse es:  51.81520094370021\n",
            "Para un corte con un mínimo de  90  muestras, el mse es:  52.5879081558255\n",
            "Para un corte con un mínimo de  110  muestras, el mse es:  52.5879081558255\n",
            "Para un corte con un mínimo de  130  muestras, el mse es:  52.5879081558255\n",
            "Para un corte con un mínimo de  150  muestras, el mse es:  52.5879081558255\n",
            "Para un corte con un mínimo de  170  muestras, el mse es:  52.5879081558255\n",
            "Para un corte con un mínimo de  190  muestras, el mse es:  52.5879081558255\n",
            "Para un corte con un mínimo de  210  muestras, el mse es:  52.5879081558255\n",
            "Para un corte con un mínimo de  230  muestras, el mse es:  52.5879081558255\n",
            "Para un corte con un mínimo de  250  muestras, el mse es:  52.5879081558255\n",
            "Para un corte con un mínimo de  270  muestras, el mse es:  52.5879081558255\n",
            "Para un corte con un mínimo de  290  muestras, el mse es:  52.5879081558255\n"
          ]
        },
        {
          "output_type": "display_data",
          "data": {
            "image/png": "[encoded data removed]",
            "text/plain": [
              "<Figure size 576x360 with 1 Axes>"
            ]
          },
          "metadata": {
            "needs_background": "light"
          }
        }
      ]
    },
    {
      "cell_type": "code",
      "metadata": {
        "colab": {
          "base_uri": "https://localhost:8080/",
          "height": 707
        },
        "id": "9Z7CKItfStfx",
        "outputId": "cb06ea37-6dbe-4a7d-f4cd-15c6bc5e08ba"
      },
      "source": [
        "#VALIDACIÓN CRUZADA PARA VARIAS CANTIDADES MÍNIMAS DE MUESTRAS QUE ESTARÁN EN UN NODO HOJA (NODO DE LA ÚLTIMA CAPA DE PROFUNDIDAD O NODO FINAL)\n",
        "\n",
        "print(\"Las variable predictora es: \", caracteristica[0])\n",
        "\n",
        "profundidadAceptada = 3\n",
        "sampleSplitAceptado = 40\n",
        "\n",
        "# PRUEBA DEL NÚMERO DE DATOS NECESARIOS PARA PODER DIVIDIR UN NODO EN UNA DECISIÓN\n",
        "samplesLeafMinimo = 10\n",
        "samplesLeafMaximo = 200+1\n",
        "samplesLeafPaso = 10\n",
        "\n",
        "errorCuadraticoMedioList = []\n",
        "samplesLeaf = np.array(range(samplesLeafMinimo,samplesLeafMaximo,samplesLeafPaso))\n",
        "\n",
        "for sampleLeaf in range(samplesLeafMinimo,samplesLeafMaximo,samplesLeafPaso):\n",
        "\n",
        "  tree = DecisionTreeRegressor(criterion = \"mse\", max_depth = profundidadAceptada, min_samples_split = sampleSplitAceptado, min_samples_leaf = sampleLeaf, random_state = 0)\n",
        "  tree.fit(X_train, Y_train)\n",
        "\n",
        "  #CREAR LOS DISTINTOS SUBCONJUNTOS DE ENTRENAMIENTO Y TESTING\n",
        "  #10 SPLITS O SUBCONJUNTOS DE TESTING, ES DECIR DE 200 EN 200, PUES TENEMOS 2000 DATOS\n",
        "  cv = KFold(n_splits = 10, shuffle = True, random_state = 0)\n",
        "  scores = cross_val_score(tree, X, Y, scoring = \"neg_mean_squared_error\", cv = cv, n_jobs = 1)\n",
        "  errorCuadraticoMedioList.append(np.mean(scores)*(-1))\n",
        "  print(\"Para nodos finales con un mínimo de \", sampleLeaf, \" muestras, el mse es: \", np.mean(scores)*(-1))\n",
        "\n",
        "errorCuadraticoMedio = np.array(errorCuadraticoMedioList)\n",
        "\n",
        "#GRÁFICA DE LA GANANCIA DE LA VELOCIDAD VS INERCIA TOTAL\n",
        "plt.figure(figsize = (8,5))\n",
        "plt.plot(samplesLeaf, errorCuadraticoMedio, c = \"darkred\")\n",
        "plt.plot(60*np.ones_like(errorCuadraticoMedio),errorCuadraticoMedio, c = \"yellow\")\n",
        "plt.title(\"Error Cuadrático Medio a distintos mínimas muestras de corte\")\n",
        "plt.xlabel(\"Mínima cantidad de datos que contiene un nodo hoja\")\n",
        "plt.ylabel(\"Error Cuadrático Medio\")\n",
        "plt.xticks(samplesLeaf)\n",
        "plt.grid()\n",
        "plt.show()"
      ],
      "execution_count": null,
      "outputs": [
        {
          "output_type": "stream",
          "name": "stdout",
          "text": [
            "Las variable predictora es:  Inercia_Total\n",
            "Para nodos finales con un mínimo de  10  muestras, el mse es:  51.36008163988011\n",
            "Para nodos finales con un mínimo de  20  muestras, el mse es:  51.36008163988011\n",
            "Para nodos finales con un mínimo de  30  muestras, el mse es:  51.36008163988011\n",
            "Para nodos finales con un mínimo de  40  muestras, el mse es:  52.5879081558255\n",
            "Para nodos finales con un mínimo de  50  muestras, el mse es:  52.5879081558255\n",
            "Para nodos finales con un mínimo de  60  muestras, el mse es:  52.5879081558255\n",
            "Para nodos finales con un mínimo de  70  muestras, el mse es:  50.52977997463934\n",
            "Para nodos finales con un mínimo de  80  muestras, el mse es:  195.6553734611042\n",
            "Para nodos finales con un mínimo de  90  muestras, el mse es:  272.0158327090898\n",
            "Para nodos finales con un mínimo de  100  muestras, el mse es:  381.28043714592985\n",
            "Para nodos finales con un mínimo de  110  muestras, el mse es:  461.09592256428243\n",
            "Para nodos finales con un mínimo de  120  muestras, el mse es:  534.4824757293306\n",
            "Para nodos finales con un mínimo de  130  muestras, el mse es:  567.1108425437171\n",
            "Para nodos finales con un mínimo de  140  muestras, el mse es:  624.0868190521248\n",
            "Para nodos finales con un mínimo de  150  muestras, el mse es:  667.0643577051725\n",
            "Para nodos finales con un mínimo de  160  muestras, el mse es:  708.8531793072425\n",
            "Para nodos finales con un mínimo de  170  muestras, el mse es:  754.0221099755028\n",
            "Para nodos finales con un mínimo de  180  muestras, el mse es:  785.06118835802\n",
            "Para nodos finales con un mínimo de  190  muestras, el mse es:  823.8544620581354\n",
            "Para nodos finales con un mínimo de  200  muestras, el mse es:  833.568729919011\n"
          ]
        },
        {
          "output_type": "display_data",
          "data": {
            "image/png": "[encoded data removed]",
            "text/plain": [
              "<Figure size 576x360 with 1 Axes>"
            ]
          },
          "metadata": {
            "needs_background": "light"
          }
        }
      ]
    },
    {
      "cell_type": "code",
      "metadata": {
        "colab": {
          "base_uri": "https://localhost:8080/",
          "height": 518
        },
        "id": "MvOe3ccLkpk1",
        "outputId": "639fef1c-5a7b-48d6-9ce9-d28f2abedde3"
      },
      "source": [
        "# ENTRENAMOS EL ÁRBOL CON EL MÍNIMO ERROR CUADRÁTICO ES UNA DE PROFUNDIDAD 7, MIN_SAMPLES_SPLIT = 100 Y MIN_SAMPLES_LEAF = 30\n",
        "\n",
        "profundidadAceptada = 3\n",
        "sampleSplitAceptado = 40\n",
        "sampleLeafAceptado = 60\n",
        "\n",
        "tree = DecisionTreeRegressor(criterion = \"mse\", max_depth = profundidadAceptada, min_samples_split = sampleSplitAceptado, min_samples_leaf = sampleLeafAceptado, random_state = 0) \n",
        "tree.fit(X_train, Y_train)\n",
        "\n",
        "#GUARDAR ARCHIVO DOT CON LA INFORMACIÓN PARA GRAFICAR\n",
        "filenameArbol = \"PP_CONTROL_MOTOR_DC/Motor_Arbol_Grafico_Velocidad.dot\"\n",
        "fullpathArbol = os.path.join(mainpath,filenameArbol)\n",
        "\n",
        "with open(fullpathArbol, \"w\") as dotfile_b:\n",
        "  export_graphviz(tree, out_file = dotfile_b, feature_names = caracteristica)\n",
        "  dotfile_b.close()\n",
        "\n",
        "file = open(fullpathArbol, \"r\")\n",
        "text = file.read()\n",
        "Source(text)"
      ],
      "execution_count": null,
      "outputs": [
        {
          "output_type": "execute_result",
          "data": {
            "text/plain": [
              "<graphviz.files.Source at 0x7f7bca06f750>"
            ],
            "image/svg+xml": "<?xml version=\"1.0\" encoding=\"UTF-8\" standalone=\"no\"?>\n<!DOCTYPE svg PUBLIC \"-//W3C//DTD SVG 1.1//EN\"\n \"http://www.w3.org/Graphics/SVG/1.1/DTD/svg11.dtd\">\n<!-- Generated by graphviz version 2.40.1 (20161225.0304)\n -->\n<!-- Title: Tree Pages: 1 -->\n<svg width=\"744pt\" height=\"373pt\"\n viewBox=\"0.00 0.00 744.00 373.00\" xmlns=\"http://www.w3.org/2000/svg\" xmlns:xlink=\"http://www.w3.org/1999/xlink\">\n<g id=\"graph0\" class=\"graph\" transform=\"scale(1 1) rotate(0) translate(4 369)\">\n<title>Tree</title>\n<polygon fill=\"#ffffff\" stroke=\"transparent\" points=\"-4,4 -4,-369 740,-369 740,4 -4,4\"/>\n<!-- 0 -->\n<g id=\"node1\" class=\"node\">\n<title>0</title>\n<polygon fill=\"none\" stroke=\"#000000\" points=\"522.5,-365 373.5,-365 373.5,-297 522.5,-297 522.5,-365\"/>\n<text text-anchor=\"middle\" x=\"448\" y=\"-349.8\" font-family=\"Times,serif\" font-size=\"14.00\" fill=\"#000000\">Inercia_Total &lt;= 0.052</text>\n<text text-anchor=\"middle\" x=\"448\" y=\"-334.8\" font-family=\"Times,serif\" font-size=\"14.00\" fill=\"#000000\">mse = 3387.159</text>\n<text text-anchor=\"middle\" x=\"448\" y=\"-319.8\" font-family=\"Times,serif\" font-size=\"14.00\" fill=\"#000000\">samples = 895</text>\n<text text-anchor=\"middle\" x=\"448\" y=\"-304.8\" font-family=\"Times,serif\" font-size=\"14.00\" fill=\"#000000\">value = 73.375</text>\n</g>\n<!-- 1 -->\n<g id=\"node2\" class=\"node\">\n<title>1</title>\n<polygon fill=\"none\" stroke=\"#000000\" points=\"426.5,-261 277.5,-261 277.5,-193 426.5,-193 426.5,-261\"/>\n<text text-anchor=\"middle\" x=\"352\" y=\"-245.8\" font-family=\"Times,serif\" font-size=\"14.00\" fill=\"#000000\">Inercia_Total &lt;= 0.038</text>\n<text text-anchor=\"middle\" x=\"352\" y=\"-230.8\" font-family=\"Times,serif\" font-size=\"14.00\" fill=\"#000000\">mse = 39.869</text>\n<text text-anchor=\"middle\" x=\"352\" y=\"-215.8\" font-family=\"Times,serif\" font-size=\"14.00\" fill=\"#000000\">samples = 454</text>\n<text text-anchor=\"middle\" x=\"352\" y=\"-200.8\" font-family=\"Times,serif\" font-size=\"14.00\" fill=\"#000000\">value = 28.411</text>\n</g>\n<!-- 0&#45;&gt;1 -->\n<g id=\"edge1\" class=\"edge\">\n<title>0&#45;&gt;1</title>\n<path fill=\"none\" stroke=\"#000000\" d=\"M416.566,-296.9465C408.1953,-287.8782 399.0584,-277.9799 390.3617,-268.5585\"/>\n<polygon fill=\"#000000\" stroke=\"#000000\" points=\"392.8593,-266.1041 383.5046,-261.13 387.7156,-270.852 392.8593,-266.1041\"/>\n<text text-anchor=\"middle\" x=\"382.5054\" y=\"-282.41\" font-family=\"Times,serif\" font-size=\"14.00\" fill=\"#000000\">True</text>\n</g>\n<!-- 8 -->\n<g id=\"node9\" class=\"node\">\n<title>8</title>\n<polygon fill=\"none\" stroke=\"#000000\" points=\"606.5,-261 457.5,-261 457.5,-193 606.5,-193 606.5,-261\"/>\n<text text-anchor=\"middle\" x=\"532\" y=\"-245.8\" font-family=\"Times,serif\" font-size=\"14.00\" fill=\"#000000\">Inercia_Total &lt;= 0.076</text>\n<text text-anchor=\"middle\" x=\"532\" y=\"-230.8\" font-family=\"Times,serif\" font-size=\"14.00\" fill=\"#000000\">mse = 2609.021</text>\n<text text-anchor=\"middle\" x=\"532\" y=\"-215.8\" font-family=\"Times,serif\" font-size=\"14.00\" fill=\"#000000\">samples = 441</text>\n<text text-anchor=\"middle\" x=\"532\" y=\"-200.8\" font-family=\"Times,serif\" font-size=\"14.00\" fill=\"#000000\">value = 119.665</text>\n</g>\n<!-- 0&#45;&gt;8 -->\n<g id=\"edge8\" class=\"edge\">\n<title>0&#45;&gt;8</title>\n<path fill=\"none\" stroke=\"#000000\" d=\"M475.5047,-296.9465C482.6841,-288.0578 490.5076,-278.3716 497.981,-269.1188\"/>\n<polygon fill=\"#000000\" stroke=\"#000000\" points=\"500.8729,-271.1086 504.4335,-261.13 495.4273,-266.7102 500.8729,-271.1086\"/>\n<text text-anchor=\"middle\" x=\"507.0781\" y=\"-282.2897\" font-family=\"Times,serif\" font-size=\"14.00\" fill=\"#000000\">False</text>\n</g>\n<!-- 2 -->\n<g id=\"node3\" class=\"node\">\n<title>2</title>\n<polygon fill=\"none\" stroke=\"#000000\" points=\"246.5,-157 97.5,-157 97.5,-89 246.5,-89 246.5,-157\"/>\n<text text-anchor=\"middle\" x=\"172\" y=\"-141.8\" font-family=\"Times,serif\" font-size=\"14.00\" fill=\"#000000\">Inercia_Total &lt;= 0.031</text>\n<text text-anchor=\"middle\" x=\"172\" y=\"-126.8\" font-family=\"Times,serif\" font-size=\"14.00\" fill=\"#000000\">mse = 9.928</text>\n<text text-anchor=\"middle\" x=\"172\" y=\"-111.8\" font-family=\"Times,serif\" font-size=\"14.00\" fill=\"#000000\">samples = 235</text>\n<text text-anchor=\"middle\" x=\"172\" y=\"-96.8\" font-family=\"Times,serif\" font-size=\"14.00\" fill=\"#000000\">value = 23.143</text>\n</g>\n<!-- 1&#45;&gt;2 -->\n<g id=\"edge2\" class=\"edge\">\n<title>1&#45;&gt;2</title>\n<path fill=\"none\" stroke=\"#000000\" d=\"M293.0613,-192.9465C276.1229,-183.1599 257.5115,-172.4066 240.0701,-162.3294\"/>\n<polygon fill=\"#000000\" stroke=\"#000000\" points=\"241.4808,-159.1023 231.0711,-157.13 237.9788,-165.1634 241.4808,-159.1023\"/>\n</g>\n<!-- 5 -->\n<g id=\"node6\" class=\"node\">\n<title>5</title>\n<polygon fill=\"none\" stroke=\"#000000\" points=\"426.5,-157 277.5,-157 277.5,-89 426.5,-89 426.5,-157\"/>\n<text text-anchor=\"middle\" x=\"352\" y=\"-141.8\" font-family=\"Times,serif\" font-size=\"14.00\" fill=\"#000000\">Inercia_Total &lt;= 0.045</text>\n<text text-anchor=\"middle\" x=\"352\" y=\"-126.8\" font-family=\"Times,serif\" font-size=\"14.00\" fill=\"#000000\">mse = 10.256</text>\n<text text-anchor=\"middle\" x=\"352\" y=\"-111.8\" font-family=\"Times,serif\" font-size=\"14.00\" fill=\"#000000\">samples = 219</text>\n<text text-anchor=\"middle\" x=\"352\" y=\"-96.8\" font-family=\"Times,serif\" font-size=\"14.00\" fill=\"#000000\">value = 34.064</text>\n</g>\n<!-- 1&#45;&gt;5 -->\n<g id=\"edge5\" class=\"edge\">\n<title>1&#45;&gt;5</title>\n<path fill=\"none\" stroke=\"#000000\" d=\"M352,-192.9465C352,-184.776 352,-175.9318 352,-167.3697\"/>\n<polygon fill=\"#000000\" stroke=\"#000000\" points=\"355.5001,-167.13 352,-157.13 348.5001,-167.13 355.5001,-167.13\"/>\n</g>\n<!-- 3 -->\n<g id=\"node4\" class=\"node\">\n<title>3</title>\n<polygon fill=\"none\" stroke=\"#000000\" points=\"104,-53 0,-53 0,0 104,0 104,-53\"/>\n<text text-anchor=\"middle\" x=\"52\" y=\"-37.8\" font-family=\"Times,serif\" font-size=\"14.00\" fill=\"#000000\">mse = 2.656</text>\n<text text-anchor=\"middle\" x=\"52\" y=\"-22.8\" font-family=\"Times,serif\" font-size=\"14.00\" fill=\"#000000\">samples = 120</text>\n<text text-anchor=\"middle\" x=\"52\" y=\"-7.8\" font-family=\"Times,serif\" font-size=\"14.00\" fill=\"#000000\">value = 20.481</text>\n</g>\n<!-- 2&#45;&gt;3 -->\n<g id=\"edge3\" class=\"edge\">\n<title>2&#45;&gt;3</title>\n<path fill=\"none\" stroke=\"#000000\" d=\"M129.6925,-88.9777C117.8501,-79.4545 104.9979,-69.1191 93.2195,-59.6473\"/>\n<polygon fill=\"#000000\" stroke=\"#000000\" points=\"95.2486,-56.7877 85.2624,-53.2485 90.8618,-62.2427 95.2486,-56.7877\"/>\n</g>\n<!-- 4 -->\n<g id=\"node5\" class=\"node\">\n<title>4</title>\n<polygon fill=\"none\" stroke=\"#000000\" points=\"221.5,-53 122.5,-53 122.5,0 221.5,0 221.5,-53\"/>\n<text text-anchor=\"middle\" x=\"172\" y=\"-37.8\" font-family=\"Times,serif\" font-size=\"14.00\" fill=\"#000000\">mse = 2.408</text>\n<text text-anchor=\"middle\" x=\"172\" y=\"-22.8\" font-family=\"Times,serif\" font-size=\"14.00\" fill=\"#000000\">samples = 115</text>\n<text text-anchor=\"middle\" x=\"172\" y=\"-7.8\" font-family=\"Times,serif\" font-size=\"14.00\" fill=\"#000000\">value = 25.92</text>\n</g>\n<!-- 2&#45;&gt;4 -->\n<g id=\"edge4\" class=\"edge\">\n<title>2&#45;&gt;4</title>\n<path fill=\"none\" stroke=\"#000000\" d=\"M172,-88.9777C172,-80.7364 172,-71.887 172,-63.5153\"/>\n<polygon fill=\"#000000\" stroke=\"#000000\" points=\"175.5001,-63.2484 172,-53.2485 168.5001,-63.2485 175.5001,-63.2484\"/>\n</g>\n<!-- 6 -->\n<g id=\"node7\" class=\"node\">\n<title>6</title>\n<polygon fill=\"none\" stroke=\"#000000\" points=\"344,-53 240,-53 240,0 344,0 344,-53\"/>\n<text text-anchor=\"middle\" x=\"292\" y=\"-37.8\" font-family=\"Times,serif\" font-size=\"14.00\" fill=\"#000000\">mse = 2.499</text>\n<text text-anchor=\"middle\" x=\"292\" y=\"-22.8\" font-family=\"Times,serif\" font-size=\"14.00\" fill=\"#000000\">samples = 113</text>\n<text text-anchor=\"middle\" x=\"292\" y=\"-7.8\" font-family=\"Times,serif\" font-size=\"14.00\" fill=\"#000000\">value = 31.366</text>\n</g>\n<!-- 5&#45;&gt;6 -->\n<g id=\"edge6\" class=\"edge\">\n<title>5&#45;&gt;6</title>\n<path fill=\"none\" stroke=\"#000000\" d=\"M330.8462,-88.9777C325.3805,-80.187 319.4846,-70.7044 313.9778,-61.8477\"/>\n<polygon fill=\"#000000\" stroke=\"#000000\" points=\"316.8837,-59.8927 308.6312,-53.2485 310.9391,-63.5889 316.8837,-59.8927\"/>\n</g>\n<!-- 7 -->\n<g id=\"node8\" class=\"node\">\n<title>7</title>\n<polygon fill=\"none\" stroke=\"#000000\" points=\"462,-53 362,-53 362,0 462,0 462,-53\"/>\n<text text-anchor=\"middle\" x=\"412\" y=\"-37.8\" font-family=\"Times,serif\" font-size=\"14.00\" fill=\"#000000\">mse = 2.498</text>\n<text text-anchor=\"middle\" x=\"412\" y=\"-22.8\" font-family=\"Times,serif\" font-size=\"14.00\" fill=\"#000000\">samples = 106</text>\n<text text-anchor=\"middle\" x=\"412\" y=\"-7.8\" font-family=\"Times,serif\" font-size=\"14.00\" fill=\"#000000\">value = 36.94</text>\n</g>\n<!-- 5&#45;&gt;7 -->\n<g id=\"edge7\" class=\"edge\">\n<title>5&#45;&gt;7</title>\n<path fill=\"none\" stroke=\"#000000\" d=\"M373.1538,-88.9777C378.6195,-80.187 384.5154,-70.7044 390.0222,-61.8477\"/>\n<polygon fill=\"#000000\" stroke=\"#000000\" points=\"393.0609,-63.5889 395.3688,-53.2485 387.1163,-59.8927 393.0609,-63.5889\"/>\n</g>\n<!-- 9 -->\n<g id=\"node10\" class=\"node\">\n<title>9</title>\n<polygon fill=\"none\" stroke=\"#000000\" points=\"606.5,-157 457.5,-157 457.5,-89 606.5,-89 606.5,-157\"/>\n<text text-anchor=\"middle\" x=\"532\" y=\"-141.8\" font-family=\"Times,serif\" font-size=\"14.00\" fill=\"#000000\">Inercia_Total &lt;= 0.064</text>\n<text text-anchor=\"middle\" x=\"532\" y=\"-126.8\" font-family=\"Times,serif\" font-size=\"14.00\" fill=\"#000000\">mse = 125.229</text>\n<text text-anchor=\"middle\" x=\"532\" y=\"-111.8\" font-family=\"Times,serif\" font-size=\"14.00\" fill=\"#000000\">samples = 381</text>\n<text text-anchor=\"middle\" x=\"532\" y=\"-96.8\" font-family=\"Times,serif\" font-size=\"14.00\" fill=\"#000000\">value = 100.848</text>\n</g>\n<!-- 8&#45;&gt;9 -->\n<g id=\"edge9\" class=\"edge\">\n<title>8&#45;&gt;9</title>\n<path fill=\"none\" stroke=\"#000000\" d=\"M532,-192.9465C532,-184.776 532,-175.9318 532,-167.3697\"/>\n<polygon fill=\"#000000\" stroke=\"#000000\" points=\"535.5001,-167.13 532,-157.13 528.5001,-167.13 535.5001,-167.13\"/>\n</g>\n<!-- 12 -->\n<g id=\"node13\" class=\"node\">\n<title>12</title>\n<polygon fill=\"none\" stroke=\"#000000\" points=\"736,-149.5 624,-149.5 624,-96.5 736,-96.5 736,-149.5\"/>\n<text text-anchor=\"middle\" x=\"680\" y=\"-134.3\" font-family=\"Times,serif\" font-size=\"14.00\" fill=\"#000000\">mse = 1855.167</text>\n<text text-anchor=\"middle\" x=\"680\" y=\"-119.3\" font-family=\"Times,serif\" font-size=\"14.00\" fill=\"#000000\">samples = 60</text>\n<text text-anchor=\"middle\" x=\"680\" y=\"-104.3\" font-family=\"Times,serif\" font-size=\"14.00\" fill=\"#000000\">value = 239.153</text>\n</g>\n<!-- 8&#45;&gt;12 -->\n<g id=\"edge12\" class=\"edge\">\n<title>8&#45;&gt;12</title>\n<path fill=\"none\" stroke=\"#000000\" d=\"M580.4607,-192.9465C597.5465,-180.9403 616.7028,-167.4791 633.613,-155.5962\"/>\n<polygon fill=\"#000000\" stroke=\"#000000\" points=\"636.0588,-158.1553 642.2285,-149.5422 632.0342,-152.428 636.0588,-158.1553\"/>\n</g>\n<!-- 10 -->\n<g id=\"node11\" class=\"node\">\n<title>10</title>\n<polygon fill=\"none\" stroke=\"#000000\" points=\"584,-53 480,-53 480,0 584,0 584,-53\"/>\n<text text-anchor=\"middle\" x=\"532\" y=\"-37.8\" font-family=\"Times,serif\" font-size=\"14.00\" fill=\"#000000\">mse = 30.85</text>\n<text text-anchor=\"middle\" x=\"532\" y=\"-22.8\" font-family=\"Times,serif\" font-size=\"14.00\" fill=\"#000000\">samples = 190</text>\n<text text-anchor=\"middle\" x=\"532\" y=\"-7.8\" font-family=\"Times,serif\" font-size=\"14.00\" fill=\"#000000\">value = 91.204</text>\n</g>\n<!-- 9&#45;&gt;10 -->\n<g id=\"edge10\" class=\"edge\">\n<title>9&#45;&gt;10</title>\n<path fill=\"none\" stroke=\"#000000\" d=\"M532,-88.9777C532,-80.7364 532,-71.887 532,-63.5153\"/>\n<polygon fill=\"#000000\" stroke=\"#000000\" points=\"535.5001,-63.2484 532,-53.2485 528.5001,-63.2485 535.5001,-63.2484\"/>\n</g>\n<!-- 11 -->\n<g id=\"node12\" class=\"node\">\n<title>11</title>\n<polygon fill=\"none\" stroke=\"#000000\" points=\"706,-53 602,-53 602,0 706,0 706,-53\"/>\n<text text-anchor=\"middle\" x=\"654\" y=\"-37.8\" font-family=\"Times,serif\" font-size=\"14.00\" fill=\"#000000\">mse = 34.586</text>\n<text text-anchor=\"middle\" x=\"654\" y=\"-22.8\" font-family=\"Times,serif\" font-size=\"14.00\" fill=\"#000000\">samples = 191</text>\n<text text-anchor=\"middle\" x=\"654\" y=\"-7.8\" font-family=\"Times,serif\" font-size=\"14.00\" fill=\"#000000\">value = 110.44</text>\n</g>\n<!-- 9&#45;&gt;11 -->\n<g id=\"edge11\" class=\"edge\">\n<title>9&#45;&gt;11</title>\n<path fill=\"none\" stroke=\"#000000\" d=\"M575.0126,-88.9777C587.0524,-79.4545 600.1188,-69.1191 612.0935,-59.6473\"/>\n<polygon fill=\"#000000\" stroke=\"#000000\" points=\"614.5115,-62.1973 620.1833,-53.2485 610.1689,-56.7072 614.5115,-62.1973\"/>\n</g>\n</g>\n</svg>\n"
          },
          "metadata": {},
          "execution_count": 22
        }
      ]
    },
    {
      "cell_type": "markdown",
      "metadata": {
        "id": "XdXSdnR7WLvx"
      },
      "source": [
        "> Validación del Modelo de Árbol de Regresión\n",
        "---"
      ]
    },
    {
      "cell_type": "code",
      "metadata": {
        "colab": {
          "base_uri": "https://localhost:8080/",
          "height": 350
        },
        "id": "W2DOMp2zrJft",
        "outputId": "ab5ca337-9ffd-4248-d1e6-5572b316cd7c"
      },
      "source": [
        "Y_predtotal = tree.predict(X)\n",
        "#GRÁFICA DEL MODELO\n",
        "plt.figure(figsize = (8,5))\n",
        "plt.plot(X, Y_predtotal, c = \"purple\")\n",
        "plt.title(\"Modelo Entrenado\")\n",
        "plt.xlabel(\"Inercia Total\")\n",
        "plt.ylabel(\"Ganancia de Velocidad\")\n",
        "plt.grid()\n",
        "plt.show()"
      ],
      "execution_count": null,
      "outputs": [
        {
          "output_type": "display_data",
          "data": {
            "image/png": "[encoded data removed]",
            "text/plain": [
              "<Figure size 576x360 with 1 Axes>"
            ]
          },
          "metadata": {
            "needs_background": "light"
          }
        }
      ]
    },
    {
      "cell_type": "code",
      "metadata": {
        "colab": {
          "base_uri": "https://localhost:8080/"
        },
        "id": "rxeTFZD5WKaJ",
        "outputId": "c8652e31-c970-4a47-9fc6-bcf720b511b3"
      },
      "source": [
        "# ERROR CUADRÁTICO MEDIO\n",
        "Y_pred = tree.predict(X_test)\n",
        "MSE = mean_squared_error(Y_test,Y_pred)\n",
        "\n",
        "# COEFICIENTES DE DETERMINACIÓN R2 SCORE\n",
        "OOBS = tree.score(X_test,Y_test)\n",
        "OOBS = OOBS*100\n",
        "\n",
        "# ERROR ESTÁNDAR RESIDUAL\n",
        "SSD = np.sum((Y_pred - np.transpose(Y_test.values))**2) #SSD                    #DIFERENCIA CUADRADO ENTRE LOS DATOS Y EL RESULTADO PREDICHO\n",
        "RSE_prev = np.sqrt(SSD/(len(Y_test.values)-len(caracteristica)-1))   #HALLAR ERROR RESPECTO AL PROMEDIO\n",
        "promedio = np.mean(Y_test.values)\n",
        "RSE = RSE_prev/promedio\n",
        "\n",
        "print(\"El error cuadrático medio es: \", MSE)\n",
        "print(\"El coeficiente de determinación R2 es: \", OOBS, \"%\")\n",
        "print(\"El error estándar residual es: \", RSE)"
      ],
      "execution_count": null,
      "outputs": [
        {
          "output_type": "stream",
          "name": "stdout",
          "text": [
            "El error cuadrático medio es:  78.20581501366775\n",
            "El coeficiente de determinación R2 es:  98.02968010793174 %\n",
            "El error estándar residual es:  0.11157367327491642\n"
          ]
        }
      ]
    },
    {
      "cell_type": "markdown",
      "metadata": {
        "id": "QZaMR0rRlat1"
      },
      "source": [
        "> Exportar Modelo de Árbol de Regresión\n",
        "---"
      ]
    },
    {
      "cell_type": "code",
      "metadata": {
        "colab": {
          "base_uri": "https://localhost:8080/"
        },
        "id": "FDQGmlXklX8l",
        "outputId": "efa5692a-618f-4cc5-f404-4952774f59d3"
      },
      "source": [
        "filenameModelo = \"PP_CONTROL_MOTOR_DC/Motor_Regresion_Arbol_Velocidad.pkl\"\n",
        "fullpathModelo = os.path.join(mainpath,filenameModelo)\n",
        "\n",
        "joblib.dump(tree,fullpathModelo)"
      ],
      "execution_count": null,
      "outputs": [
        {
          "output_type": "execute_result",
          "data": {
            "text/plain": [
              "['drive/My Drive/DATASET/PP_CONTROL_MOTOR_DC/Motor_Regresion_Arbol_Velocidad.pkl']"
            ]
          },
          "metadata": {},
          "execution_count": 25
        }
      ]
    },
    {
      "cell_type": "markdown",
      "metadata": {
        "id": "f01RjxEOexAP"
      },
      "source": [
        "> # 2. GANANCIA CORRIENTE\n"
      ]
    },
    {
      "cell_type": "markdown",
      "metadata": {
        "id": "eMfJN-iHe5Vv"
      },
      "source": [
        "> Separar Datos en Conjuntos de Entrenamiento y Validación\n",
        "---"
      ]
    },
    {
      "cell_type": "code",
      "metadata": {
        "id": "vZqSK_VkfEGg"
      },
      "source": [
        "#OBTENER LA VARIABLE CARACTERÍSTICA Y LA VARIABLE OBJETIVO DEL DATASET\n",
        "caracteristica = [\"Inercia_Total\"]\n",
        "objetivo = [\"Ganancia_Corriente\"]\n",
        "\n",
        "X = data[caracteristica]\n",
        "Y = data[objetivo]"
      ],
      "execution_count": null,
      "outputs": []
    },
    {
      "cell_type": "code",
      "metadata": {
        "id": "H49DzQT3fRk5"
      },
      "source": [
        "#OBTENEMOS DATOS DE ENTRENAMIENTO Y VALIDACIÓN (75% DE DATOS PARA EL CONJUNTO DE ENTRENAMIENTO)\n",
        "X_train, X_test, Y_train, Y_test = model_selection.train_test_split(X,Y, test_size = 0.25, random_state = 0)"
      ],
      "execution_count": null,
      "outputs": []
    },
    {
      "cell_type": "markdown",
      "metadata": {
        "id": "c6AK7Q20e83X"
      },
      "source": [
        "> Entrenamiento del Árbol de Regresión y Validación de sus Parámetros\n",
        "---"
      ]
    },
    {
      "cell_type": "code",
      "metadata": {
        "colab": {
          "base_uri": "https://localhost:8080/",
          "height": 538
        },
        "id": "N7ogeRT6fWo3",
        "outputId": "3497a6f5-7a1a-41ac-ad51-7589404e6db3"
      },
      "source": [
        "#VALIDACIÓN CRUZADA PARA VARIAS PROFUNDIDADES DE ÁRBOL\n",
        "\n",
        "print(\"Las variable predictora es: \", caracteristica[0])\n",
        "\n",
        "# PRUEBA DE LA PROFUNDIDAD DEL ÁRBOL\n",
        "profundidadMinima = 1\n",
        "profundidadMaxima = 10\n",
        "\n",
        "errorCuadraticoMedioList = []\n",
        "profundidad = np.array(range(profundidadMinima,profundidadMaxima+1))\n",
        "\n",
        "for i in range(profundidadMinima,profundidadMaxima+1):\n",
        "\n",
        "  tree = DecisionTreeRegressor(criterion = \"mse\", max_depth = i, min_samples_split = 10, min_samples_leaf = 10, random_state = 0) \n",
        "  tree.fit(X_train, Y_train)\n",
        "\n",
        "  #CREAR LOS DISTINTOS SUBCONJUNTOS DE ENTRENAMIENTO Y TESTING\n",
        "  #10 SPLITS O SUBCONJUNTOS DE TESTING, ES DECIR DE 200 EN 200, PUES TENEMOS 2000 DATOS\n",
        "  cv = KFold(n_splits = 10, shuffle = True, random_state = 0)\n",
        "  scores = cross_val_score(tree, X, Y, scoring = \"neg_mean_squared_error\", cv = cv, n_jobs = 1)\n",
        "  errorCuadraticoMedioList.append(np.mean(scores)*(-1))\n",
        "  print(\"Para una profundidad de \", i, \" el mse es: \", np.mean(scores)*(-1))\n",
        "\n",
        "errorCuadraticoMedio = np.array(errorCuadraticoMedioList)\n",
        "\n",
        "#GRÁFICA DE LA GANANCIA DE LA VELOCIDAD VS INERCIA TOTAL\n",
        "plt.figure(figsize = (8,5))\n",
        "plt.plot(profundidad, errorCuadraticoMedio, c = \"darkred\")\n",
        "plt.plot(2*np.ones_like(errorCuadraticoMedio),errorCuadraticoMedio, c = \"yellow\")\n",
        "plt.title(\"Error Cuadrático Medio a distintas profundidades del Árbol\")\n",
        "plt.xlabel(\"Profundidad\")\n",
        "plt.ylabel(\"Error Cuadrático Medio\")\n",
        "plt.xticks(profundidad)\n",
        "plt.grid()\n",
        "plt.show()"
      ],
      "execution_count": null,
      "outputs": [
        {
          "output_type": "stream",
          "name": "stdout",
          "text": [
            "Las variable predictora es:  Inercia_Total\n",
            "Para una profundidad de  1  el mse es:  0.0002928852803493145\n",
            "Para una profundidad de  2  el mse es:  1.0812469710962126e-05\n",
            "Para una profundidad de  3  el mse es:  1.0812469710962126e-05\n",
            "Para una profundidad de  4  el mse es:  1.0812469710962126e-05\n",
            "Para una profundidad de  5  el mse es:  1.0812469710962126e-05\n",
            "Para una profundidad de  6  el mse es:  1.0812469710962126e-05\n",
            "Para una profundidad de  7  el mse es:  1.0812469710962126e-05\n",
            "Para una profundidad de  8  el mse es:  1.0812469710962126e-05\n",
            "Para una profundidad de  9  el mse es:  1.0812469710962126e-05\n",
            "Para una profundidad de  10  el mse es:  1.0812469710962126e-05\n"
          ]
        },
        {
          "output_type": "display_data",
          "data": {
            "image/png": "[encoded data removed]",
            "text/plain": [
              "<Figure size 576x360 with 1 Axes>"
            ]
          },
          "metadata": {
            "needs_background": "light"
          }
        }
      ]
    },
    {
      "cell_type": "code",
      "metadata": {
        "colab": {
          "base_uri": "https://localhost:8080/",
          "height": 707
        },
        "id": "W36V6-dsfkwn",
        "outputId": "798bc0e8-4584-4fab-e262-c3b6155ad851"
      },
      "source": [
        "#VALIDACIÓN CRUZADA PARA VARIAS CANTIDADES MÍNIMAS DE MUESTRAS PARA CORTAR UN NODO EN UNA DECISIÓN\n",
        "\n",
        "print(\"Las variable predictora es: \", caracteristica[0])\n",
        "\n",
        "profundidadAceptada = 2\n",
        "\n",
        "# PRUEBA DEL NÚMERO DE DATOS NECESARIOS PARA PODER DIVIDIR UN NODO EN UNA DECISIÓN\n",
        "samplesSplitMinimo = 10\n",
        "samplesSplitMaximo = 200+1\n",
        "samplesSplitPaso = 10\n",
        "\n",
        "errorCuadraticoMedioList = []\n",
        "samplesSplit = np.array(range(samplesSplitMinimo,samplesSplitMaximo,samplesSplitPaso))\n",
        "\n",
        "for sampleSplit in range(samplesSplitMinimo,samplesSplitMaximo,samplesSplitPaso):\n",
        "\n",
        "  tree = DecisionTreeRegressor(criterion = \"mse\", max_depth = profundidadAceptada, min_samples_split = sampleSplit, min_samples_leaf = 30, random_state = 0)\n",
        "  tree.fit(X_train, Y_train)\n",
        "\n",
        "  #CREAR LOS DISTINTOS SUBCONJUNTOS DE ENTRENAMIENTO Y TESTING\n",
        "  #10 SPLITS O SUBCONJUNTOS DE TESTING, ES DECIR DE 200 EN 200, PUES TENEMOS 2000 DATOS\n",
        "  cv = KFold(n_splits = 10, shuffle = True, random_state = 0)\n",
        "  scores = cross_val_score(tree, X, Y, scoring = \"neg_mean_squared_error\", cv = cv, n_jobs = 1)\n",
        "  errorCuadraticoMedioList.append(np.mean(scores)*(-1))\n",
        "  print(\"Para un corte con un mínimo de \", sampleSplit, \" muestras, el mse es: \", np.mean(scores)*(-1))\n",
        "\n",
        "errorCuadraticoMedio = np.array(errorCuadraticoMedioList)\n",
        "\n",
        "#GRÁFICA DE LA GANANCIA DE LA VELOCIDAD VS INERCIA TOTAL\n",
        "plt.figure(figsize = (8,5))\n",
        "plt.plot(samplesSplit, errorCuadraticoMedio, c = \"darkred\")\n",
        "plt.plot(10*np.ones_like(errorCuadraticoMedio),errorCuadraticoMedio, c = \"yellow\")\n",
        "plt.title(\"Error Cuadrático Medio a distintos mínimas muestras de corte\")\n",
        "plt.xlabel(\"Mínima cantidad de datos para dividir un nodo\")\n",
        "plt.ylabel(\"Error Cuadrático Medio\")\n",
        "plt.xticks(samplesSplit)\n",
        "plt.grid()\n",
        "plt.show()"
      ],
      "execution_count": null,
      "outputs": [
        {
          "output_type": "stream",
          "name": "stdout",
          "text": [
            "Las variable predictora es:  Inercia_Total\n",
            "Para un corte con un mínimo de  10  muestras, el mse es:  1.0812469710962126e-05\n",
            "Para un corte con un mínimo de  20  muestras, el mse es:  1.0812469710962126e-05\n",
            "Para un corte con un mínimo de  30  muestras, el mse es:  1.0812469710962126e-05\n",
            "Para un corte con un mínimo de  40  muestras, el mse es:  1.0812469710962126e-05\n",
            "Para un corte con un mínimo de  50  muestras, el mse es:  1.0812469710962126e-05\n",
            "Para un corte con un mínimo de  60  muestras, el mse es:  1.0812469710962126e-05\n",
            "Para un corte con un mínimo de  70  muestras, el mse es:  1.0812469710962126e-05\n",
            "Para un corte con un mínimo de  80  muestras, el mse es:  1.0812469710962126e-05\n",
            "Para un corte con un mínimo de  90  muestras, el mse es:  1.0812469710962126e-05\n",
            "Para un corte con un mínimo de  100  muestras, el mse es:  1.0812469710962126e-05\n",
            "Para un corte con un mínimo de  110  muestras, el mse es:  1.0812469710962126e-05\n",
            "Para un corte con un mínimo de  120  muestras, el mse es:  1.0812469710962126e-05\n",
            "Para un corte con un mínimo de  130  muestras, el mse es:  1.0812469710962126e-05\n",
            "Para un corte con un mínimo de  140  muestras, el mse es:  1.0812469710962126e-05\n",
            "Para un corte con un mínimo de  150  muestras, el mse es:  1.0812469710962126e-05\n",
            "Para un corte con un mínimo de  160  muestras, el mse es:  1.0812469710962126e-05\n",
            "Para un corte con un mínimo de  170  muestras, el mse es:  1.0812469710962126e-05\n",
            "Para un corte con un mínimo de  180  muestras, el mse es:  1.0812469710962126e-05\n",
            "Para un corte con un mínimo de  190  muestras, el mse es:  1.0812469710962126e-05\n",
            "Para un corte con un mínimo de  200  muestras, el mse es:  1.0812469710962126e-05\n"
          ]
        },
        {
          "output_type": "display_data",
          "data": {
            "image/png": "[encoded data removed]",
            "text/plain": [
              "<Figure size 576x360 with 1 Axes>"
            ]
          },
          "metadata": {
            "needs_background": "light"
          }
        }
      ]
    },
    {
      "cell_type": "code",
      "metadata": {
        "colab": {
          "base_uri": "https://localhost:8080/",
          "height": 707
        },
        "id": "PblBQcnCf5Fj",
        "outputId": "36b14d4d-a2d3-4bbb-bfe4-4ab686c16efd"
      },
      "source": [
        "#VALIDACIÓN CRUZADA PARA VARIAS CANTIDADES MÍNIMAS DE MUESTRAS QUE ESTARÁN EN UN NODO HOJA (NODO DE LA ÚLTIMA CAPA DE PROFUNDIDAD O NODO FINAL)\n",
        "\n",
        "print(\"Las variable predictora es: \", caracteristica[0])\n",
        "\n",
        "profundidadAceptada = 2\n",
        "sampleSplitAceptado = 10\n",
        "\n",
        "# PRUEBA DEL NÚMERO DE DATOS NECESARIOS PARA PODER DIVIDIR UN NODO EN UNA DECISIÓN\n",
        "samplesLeafMinimo = 1\n",
        "samplesLeafMaximo = 20+1\n",
        "samplesLeafPaso = 1\n",
        "\n",
        "errorCuadraticoMedioList = []\n",
        "samplesLeaf = np.array(range(samplesLeafMinimo,samplesLeafMaximo,samplesLeafPaso))\n",
        "\n",
        "for sampleLeaf in range(samplesLeafMinimo,samplesLeafMaximo,samplesLeafPaso):\n",
        "\n",
        "  tree = DecisionTreeRegressor(criterion = \"mse\", max_depth = profundidadAceptada, min_samples_split = sampleSplitAceptado, min_samples_leaf = sampleLeaf, random_state = 0)\n",
        "  tree.fit(X_train, Y_train)\n",
        "\n",
        "  #CREAR LOS DISTINTOS SUBCONJUNTOS DE ENTRENAMIENTO Y TESTING\n",
        "  #10 SPLITS O SUBCONJUNTOS DE TESTING, ES DECIR DE 200 EN 200, PUES TENEMOS 2000 DATOS\n",
        "  cv = KFold(n_splits = 10, shuffle = True, random_state = 0)\n",
        "  scores = cross_val_score(tree, X, Y, scoring = \"neg_mean_squared_error\", cv = cv, n_jobs = 1)\n",
        "  errorCuadraticoMedioList.append(np.mean(scores)*(-1))\n",
        "  print(\"Para nodos finales con un mínimo de \", sampleLeaf, \" muestras, el mse es: \", np.mean(scores)*(-1))\n",
        "\n",
        "errorCuadraticoMedio = np.array(errorCuadraticoMedioList)\n",
        "\n",
        "#GRÁFICA DE LA GANANCIA DE LA VELOCIDAD VS INERCIA TOTAL\n",
        "plt.figure(figsize = (8,5))\n",
        "plt.plot(samplesLeaf, errorCuadraticoMedio, c = \"darkred\")\n",
        "plt.plot(15*np.ones_like(errorCuadraticoMedio),errorCuadraticoMedio, c = \"yellow\")\n",
        "plt.title(\"Error Cuadrático Medio a distintos mínimas muestras de corte\")\n",
        "plt.xlabel(\"Mínima cantidad de datos para dividir un nodo\")\n",
        "plt.ylabel(\"Error Cuadrático Medio\")\n",
        "plt.xticks(samplesLeaf)\n",
        "plt.grid()\n",
        "plt.show()"
      ],
      "execution_count": null,
      "outputs": [
        {
          "output_type": "stream",
          "name": "stdout",
          "text": [
            "Las variable predictora es:  Inercia_Total\n",
            "Para nodos finales con un mínimo de  1  muestras, el mse es:  1.0812469710962126e-05\n",
            "Para nodos finales con un mínimo de  2  muestras, el mse es:  1.0812469710962126e-05\n",
            "Para nodos finales con un mínimo de  3  muestras, el mse es:  1.0812469710962126e-05\n",
            "Para nodos finales con un mínimo de  4  muestras, el mse es:  1.0812469710962126e-05\n",
            "Para nodos finales con un mínimo de  5  muestras, el mse es:  1.0812469710962126e-05\n",
            "Para nodos finales con un mínimo de  6  muestras, el mse es:  1.0812469710962126e-05\n",
            "Para nodos finales con un mínimo de  7  muestras, el mse es:  1.0812469710962126e-05\n",
            "Para nodos finales con un mínimo de  8  muestras, el mse es:  1.0812469710962126e-05\n",
            "Para nodos finales con un mínimo de  9  muestras, el mse es:  1.0812469710962126e-05\n",
            "Para nodos finales con un mínimo de  10  muestras, el mse es:  1.0812469710962126e-05\n",
            "Para nodos finales con un mínimo de  11  muestras, el mse es:  1.0812469710962126e-05\n",
            "Para nodos finales con un mínimo de  12  muestras, el mse es:  1.0812469710962126e-05\n",
            "Para nodos finales con un mínimo de  13  muestras, el mse es:  1.0812469710962126e-05\n",
            "Para nodos finales con un mínimo de  14  muestras, el mse es:  1.0812469710962126e-05\n",
            "Para nodos finales con un mínimo de  15  muestras, el mse es:  1.0812469710962126e-05\n",
            "Para nodos finales con un mínimo de  16  muestras, el mse es:  1.0812469710962126e-05\n",
            "Para nodos finales con un mínimo de  17  muestras, el mse es:  1.0812469710962126e-05\n",
            "Para nodos finales con un mínimo de  18  muestras, el mse es:  1.0812469710962126e-05\n",
            "Para nodos finales con un mínimo de  19  muestras, el mse es:  1.0812469710962126e-05\n",
            "Para nodos finales con un mínimo de  20  muestras, el mse es:  1.0812469710962126e-05\n"
          ]
        },
        {
          "output_type": "display_data",
          "data": {
            "image/png": "[encoded data removed]",
            "text/plain": [
              "<Figure size 576x360 with 1 Axes>"
            ]
          },
          "metadata": {
            "needs_background": "light"
          }
        }
      ]
    },
    {
      "cell_type": "code",
      "metadata": {
        "colab": {
          "base_uri": "https://localhost:8080/",
          "height": 380
        },
        "id": "_3GS9_fBgBdY",
        "outputId": "4c10f51a-ebd9-4753-db91-411ffe7be6e1"
      },
      "source": [
        "# ENTRENAMOS EL ÁRBOL CON EL MÍNIMO ERROR CUADRÁTICO ES UNA DE PROFUNDIDAD 7, MIN_SAMPLES_SPLIT = 100 Y MIN_SAMPLES_LEAF = 30\n",
        "\n",
        "profundidadAceptada = 2\n",
        "sampleSplitAceptado = 10\n",
        "sampleLeafAceptado = 2\n",
        "\n",
        "tree = DecisionTreeRegressor(criterion = \"mse\", max_depth = profundidadAceptada, min_samples_split = sampleSplitAceptado, min_samples_leaf = sampleLeafAceptado, random_state = 0) \n",
        "tree.fit(X_train, Y_train)\n",
        "\n",
        "#GUARDAR ARCHIVO DOT CON LA INFORMACIÓN PARA GRAFICAR\n",
        "filenameArbol = \"PP_CONTROL_MOTOR_DC/Motor_Arbol_Grafico_Corriente.dot\"\n",
        "fullpathArbol = os.path.join(mainpath,filenameArbol)\n",
        "\n",
        "with open(fullpathArbol, \"w\") as dotfile_b:\n",
        "  export_graphviz(tree, out_file = dotfile_b, feature_names = caracteristica)\n",
        "  dotfile_b.close()\n",
        "\n",
        "file = open(fullpathArbol, \"r\")\n",
        "text = file.read()\n",
        "Source(text)"
      ],
      "execution_count": null,
      "outputs": [
        {
          "output_type": "execute_result",
          "data": {
            "text/plain": [
              "<graphviz.files.Source at 0x7f7bca2d3e50>"
            ],
            "image/svg+xml": "<?xml version=\"1.0\" encoding=\"UTF-8\" standalone=\"no\"?>\n<!DOCTYPE svg PUBLIC \"-//W3C//DTD SVG 1.1//EN\"\n \"http://www.w3.org/Graphics/SVG/1.1/DTD/svg11.dtd\">\n<!-- Generated by graphviz version 2.40.1 (20161225.0304)\n -->\n<!-- Title: Tree Pages: 1 -->\n<svg width=\"304pt\" height=\"269pt\"\n viewBox=\"0.00 0.00 304.00 269.00\" xmlns=\"http://www.w3.org/2000/svg\" xmlns:xlink=\"http://www.w3.org/1999/xlink\">\n<g id=\"graph0\" class=\"graph\" transform=\"scale(1 1) rotate(0) translate(4 265)\">\n<title>Tree</title>\n<polygon fill=\"#ffffff\" stroke=\"transparent\" points=\"-4,4 -4,-265 300,-265 300,4 -4,4\"/>\n<!-- 0 -->\n<g id=\"node1\" class=\"node\">\n<title>0</title>\n<polygon fill=\"none\" stroke=\"#000000\" points=\"195.5,-261 46.5,-261 46.5,-193 195.5,-193 195.5,-261\"/>\n<text text-anchor=\"middle\" x=\"121\" y=\"-245.8\" font-family=\"Times,serif\" font-size=\"14.00\" fill=\"#000000\">Inercia_Total &lt;= 0.052</text>\n<text text-anchor=\"middle\" x=\"121\" y=\"-230.8\" font-family=\"Times,serif\" font-size=\"14.00\" fill=\"#000000\">mse = 0.001</text>\n<text text-anchor=\"middle\" x=\"121\" y=\"-215.8\" font-family=\"Times,serif\" font-size=\"14.00\" fill=\"#000000\">samples = 895</text>\n<text text-anchor=\"middle\" x=\"121\" y=\"-200.8\" font-family=\"Times,serif\" font-size=\"14.00\" fill=\"#000000\">value = 0.136</text>\n</g>\n<!-- 1 -->\n<g id=\"node2\" class=\"node\">\n<title>1</title>\n<polygon fill=\"none\" stroke=\"#000000\" points=\"100,-149.5 0,-149.5 0,-96.5 100,-96.5 100,-149.5\"/>\n<text text-anchor=\"middle\" x=\"50\" y=\"-134.3\" font-family=\"Times,serif\" font-size=\"14.00\" fill=\"#000000\">mse = 0.0</text>\n<text text-anchor=\"middle\" x=\"50\" y=\"-119.3\" font-family=\"Times,serif\" font-size=\"14.00\" fill=\"#000000\">samples = 454</text>\n<text text-anchor=\"middle\" x=\"50\" y=\"-104.3\" font-family=\"Times,serif\" font-size=\"14.00\" fill=\"#000000\">value = 0.107</text>\n</g>\n<!-- 0&#45;&gt;1 -->\n<g id=\"edge1\" class=\"edge\">\n<title>0&#45;&gt;1</title>\n<path fill=\"none\" stroke=\"#000000\" d=\"M97.7519,-192.9465C90.0818,-181.7113 81.5418,-169.2021 73.8289,-157.9043\"/>\n<polygon fill=\"#000000\" stroke=\"#000000\" points=\"76.6491,-155.8277 68.1201,-149.5422 70.8678,-159.7745 76.6491,-155.8277\"/>\n<text text-anchor=\"middle\" x=\"63.4875\" y=\"-170.4092\" font-family=\"Times,serif\" font-size=\"14.00\" fill=\"#000000\">True</text>\n</g>\n<!-- 2 -->\n<g id=\"node3\" class=\"node\">\n<title>2</title>\n<polygon fill=\"none\" stroke=\"#000000\" points=\"267.5,-157 118.5,-157 118.5,-89 267.5,-89 267.5,-157\"/>\n<text text-anchor=\"middle\" x=\"193\" y=\"-141.8\" font-family=\"Times,serif\" font-size=\"14.00\" fill=\"#000000\">Inercia_Total &lt;= 0.076</text>\n<text text-anchor=\"middle\" x=\"193\" y=\"-126.8\" font-family=\"Times,serif\" font-size=\"14.00\" fill=\"#000000\">mse = 0.001</text>\n<text text-anchor=\"middle\" x=\"193\" y=\"-111.8\" font-family=\"Times,serif\" font-size=\"14.00\" fill=\"#000000\">samples = 441</text>\n<text text-anchor=\"middle\" x=\"193\" y=\"-96.8\" font-family=\"Times,serif\" font-size=\"14.00\" fill=\"#000000\">value = 0.166</text>\n</g>\n<!-- 0&#45;&gt;2 -->\n<g id=\"edge2\" class=\"edge\">\n<title>0&#45;&gt;2</title>\n<path fill=\"none\" stroke=\"#000000\" d=\"M144.5755,-192.9465C150.6671,-184.1475 157.2996,-174.5672 163.6466,-165.3993\"/>\n<polygon fill=\"#000000\" stroke=\"#000000\" points=\"166.5571,-167.3442 169.3715,-157.13 160.8017,-163.3597 166.5571,-167.3442\"/>\n<text text-anchor=\"middle\" x=\"173.8437\" y=\"-178.0267\" font-family=\"Times,serif\" font-size=\"14.00\" fill=\"#000000\">False</text>\n</g>\n<!-- 3 -->\n<g id=\"node4\" class=\"node\">\n<title>3</title>\n<polygon fill=\"none\" stroke=\"#000000\" points=\"186,-53 86,-53 86,0 186,0 186,-53\"/>\n<text text-anchor=\"middle\" x=\"136\" y=\"-37.8\" font-family=\"Times,serif\" font-size=\"14.00\" fill=\"#000000\">mse = 0.0</text>\n<text text-anchor=\"middle\" x=\"136\" y=\"-22.8\" font-family=\"Times,serif\" font-size=\"14.00\" fill=\"#000000\">samples = 388</text>\n<text text-anchor=\"middle\" x=\"136\" y=\"-7.8\" font-family=\"Times,serif\" font-size=\"14.00\" fill=\"#000000\">value = 0.158</text>\n</g>\n<!-- 2&#45;&gt;3 -->\n<g id=\"edge3\" class=\"edge\">\n<title>2&#45;&gt;3</title>\n<path fill=\"none\" stroke=\"#000000\" d=\"M172.9039,-88.9777C167.7656,-80.2786 162.227,-70.9018 157.0425,-62.1247\"/>\n<polygon fill=\"#000000\" stroke=\"#000000\" points=\"159.899,-60.0786 151.7996,-53.2485 153.8719,-63.6387 159.899,-60.0786\"/>\n</g>\n<!-- 4 -->\n<g id=\"node5\" class=\"node\">\n<title>4</title>\n<polygon fill=\"none\" stroke=\"#000000\" points=\"296,-53 204,-53 204,0 296,0 296,-53\"/>\n<text text-anchor=\"middle\" x=\"250\" y=\"-37.8\" font-family=\"Times,serif\" font-size=\"14.00\" fill=\"#000000\">mse = 0.0</text>\n<text text-anchor=\"middle\" x=\"250\" y=\"-22.8\" font-family=\"Times,serif\" font-size=\"14.00\" fill=\"#000000\">samples = 53</text>\n<text text-anchor=\"middle\" x=\"250\" y=\"-7.8\" font-family=\"Times,serif\" font-size=\"14.00\" fill=\"#000000\">value = 0.23</text>\n</g>\n<!-- 2&#45;&gt;4 -->\n<g id=\"edge4\" class=\"edge\">\n<title>2&#45;&gt;4</title>\n<path fill=\"none\" stroke=\"#000000\" d=\"M213.0961,-88.9777C218.2344,-80.2786 223.773,-70.9018 228.9575,-62.1247\"/>\n<polygon fill=\"#000000\" stroke=\"#000000\" points=\"232.1281,-63.6387 234.2004,-53.2485 226.101,-60.0786 232.1281,-63.6387\"/>\n</g>\n</g>\n</svg>\n"
          },
          "metadata": {},
          "execution_count": 40
        }
      ]
    },
    {
      "cell_type": "markdown",
      "metadata": {
        "id": "EUnFvtv0fBaq"
      },
      "source": [
        "> Validación del Modelo de Árbol de Regresión\n",
        "---"
      ]
    },
    {
      "cell_type": "code",
      "metadata": {
        "id": "i2Yz4CxsrUyk",
        "colab": {
          "base_uri": "https://localhost:8080/",
          "height": 350
        },
        "outputId": "1ce6848d-0726-407c-8a1f-f48a78d4a666"
      },
      "source": [
        "Y_predtotal = tree.predict(X)\n",
        "#GRÁFICA DEL MODELO\n",
        "plt.figure(figsize = (8,5))\n",
        "plt.plot(X, Y_predtotal, c = \"purple\")\n",
        "plt.title(\"Modelo Entrenado\")\n",
        "plt.xlabel(\"Inercia Total\")\n",
        "plt.ylabel(\"Ganancia de Velocidad\")\n",
        "plt.grid()\n",
        "plt.show()"
      ],
      "execution_count": null,
      "outputs": [
        {
          "output_type": "display_data",
          "data": {
            "image/png": "[encoded data removed]",
            "text/plain": [
              "<Figure size 576x360 with 1 Axes>"
            ]
          },
          "metadata": {
            "needs_background": "light"
          }
        }
      ]
    },
    {
      "cell_type": "code",
      "metadata": {
        "colab": {
          "base_uri": "https://localhost:8080/"
        },
        "id": "TNgMkRFzgK2h",
        "outputId": "24966bea-e804-46f1-abd9-cabbc0f0ba40"
      },
      "source": [
        "# ERROR CUADRÁTICO MEDIO\n",
        "Y_pred = tree.predict(X_test)\n",
        "MSE = mean_squared_error(Y_test,Y_pred)\n",
        "\n",
        "# COEFICIENTES DE DETERMINACIÓN R2 SCORE\n",
        "OOBS = tree.score(X_test,Y_test)\n",
        "OOBS = OOBS*100\n",
        "\n",
        "# ERROR ESTÁNDAR RESIDUAL\n",
        "SSD = np.sum((Y_pred - np.transpose(Y_test.values))**2) #SSD                    #DIFERENCIA CUADRADO ENTRE LOS DATOS Y EL RESULTADO PREDICHO\n",
        "RSE_prev = np.sqrt(SSD/(len(Y_test.values)-len(caracteristica)-1))   #HALLAR ERROR RESPECTO AL PROMEDIO\n",
        "promedio = np.mean(Y_test.values)\n",
        "RSE = RSE_prev/promedio\n",
        "\n",
        "print(\"El error cuadrático medio es: \", MSE)\n",
        "print(\"El coeficiente de determinación R2 es: \", OOBS, \"%\")\n",
        "print(\"El error estándar residual es: \", RSE)"
      ],
      "execution_count": null,
      "outputs": [
        {
          "output_type": "stream",
          "name": "stdout",
          "text": [
            "El error cuadrático medio es:  4.144793601318798e-12\n",
            "El coeficiente de determinación R2 es:  99.9999996789793 %\n",
            "El error estándar residual es:  1.4651253149084593e-05\n"
          ]
        }
      ]
    },
    {
      "cell_type": "markdown",
      "metadata": {
        "id": "mvz-eYjffCzn"
      },
      "source": [
        "> Exportar Modelo de Árbol de Regresión\n",
        "---"
      ]
    },
    {
      "cell_type": "code",
      "metadata": {
        "colab": {
          "base_uri": "https://localhost:8080/"
        },
        "id": "KSqCzAp6gR0P",
        "outputId": "f58f7b3a-8461-4785-f1fb-c6ed585d92ba"
      },
      "source": [
        "filenameModelo = \"PP_CONTROL_MOTOR_DC/Motor_Regresion_Arbol_Corriente.pkl\"\n",
        "fullpathModelo = os.path.join(mainpath,filenameModelo)\n",
        "\n",
        "joblib.dump(tree,fullpathModelo)"
      ],
      "execution_count": null,
      "outputs": [
        {
          "output_type": "execute_result",
          "data": {
            "text/plain": [
              "['drive/My Drive/DATASET/PP_CONTROL_MOTOR_DC/Motor_Regresion_Arbol_Corriente.pkl']"
            ]
          },
          "metadata": {},
          "execution_count": 43
        }
      ]
    }
  ]
}